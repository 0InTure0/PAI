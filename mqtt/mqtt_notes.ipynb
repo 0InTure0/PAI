{
 "cells": [
  {
   "cell_type": "code",
   "execution_count": null,
   "metadata": {},
   "outputs": [],
   "source": [
    "#기본 라이브러리 세팅\n",
    "#Publish\n",
    "  paho.mqtt.publish as publish\n",
    "#Subscribe(Client)\n",
    "  paho.mqtt.client as mqtt\n",
    "\n",
    "  #mqtt의 Client함수를 clint로 사용한다고 선언 -> 코드를 줄이고 간단하게 client의 함수를 사용하기 위해 씀\n",
    "  client = mqtt.Client( )"
   ]
  },
  {
   "cell_type": "code",
   "execution_count": null,
   "metadata": {},
   "outputs": [],
   "source": [
    "#서브스크라이버 기본 코드\n",
    "def on_connect( client, userdata, flags, rc ):  #(client, userdata, flags, rc) 4개의 값을 받는 함수를 제작\n",
    "  print(\"Connect with result code \" + str(rc) )   #MQTT가 연결되었는지의 결과값을 프린트로 출력\n",
    "  client.subscribe(\"Sensors/MyOffice/Indoor/#\")    #클라이언트가 받는 데이터의 토픽(위치) \n",
    "  #[&&안에 @@토픽의 데이터를 받는다 할 때 \"&&/@@\"로 표시]\n",
    "  #[#(샵)은 그 이후에 있는 모든 토픽을 포함한다는 의미]\n",
    "\n",
    "client.on_connect = on_connect  #on_connect에 client.on_connect함수를 적용하여 값들을 받음\n",
    "\n",
    "def on_message( client, userdata, msg ): #(client, userdata, msg) 3개의 값을 받는 함수를 제작\n",
    "  print( msg.topic +\" \"+str(msg.payload) ) #msg가 들어오는 토픽(위치)을 출력, 띄어쓰기 한 칸, msg.payload로 메시지 받아서 string형태로 변환해서 출력\n",
    "\n",
    "client.on_message = on_message #on_message에 client.on_message함수를 적용하여 값들을 받음"
   ]
  },
  {
   "cell_type": "code",
   "execution_count": null,
   "metadata": {},
   "outputs": [],
   "source": [
    "#퍼블리셔 기본 코드\n",
    "publish.single(\"Sensors/MyOffice/Indoor/Temp\", \"23.4\", hostname=\"localhost\") #publishing할 토픽, 데이터, 주소를 정하는 문장 (“연결할 토픽”,“데이터”,hostname=“호스트 명”)"
   ]
  },
  {
   "cell_type": "code",
   "execution_count": null,
   "metadata": {},
   "outputs": [],
   "source": [
    "#Integer형태로 메시지 받기\n",
    "\n",
    "#MQTT의 전송방식은 기본 Byte형식이므로 편하게 IOT제어를 하기 위해서는 Integer형태로 바꿔주어야 한다.\n",
    "\n",
    "#publise에 추가할 코드\n",
    "import struct #struct라이브러리를 이용하여 전송을 정규 Byte형태로 전송한다\n",
    "int_value = 3 #int값이 들어간 변수 만들기\n",
    "byte_value = struct.pack(\"B\", int_value) #int_value값을 1Byte형태로 변환하여 byte_value변수에 집어넣는다\n",
    "\n",
    "#subscribe에 추가할 코드\n",
    "msg_to_int = int.from_bytes(msg.payload, \"big\") #msg.payload로 받는 1byte형태의 값을 int로 변환\n"
   ]
  }
 ],
 "metadata": {
  "language_info": {
   "name": "python"
  },
  "orig_nbformat": 4
 },
 "nbformat": 4,
 "nbformat_minor": 2
}
